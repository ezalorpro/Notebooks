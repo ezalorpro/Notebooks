{
 "cells": [
  {
   "cell_type": "markdown",
   "metadata": {
    "slideshow": {
     "slide_type": "slide"
    },
    "toc-hr-collapsed": false
   },
   "source": [
    "# Resumen\n",
    "\n",
    "<p style=\"text-align: justify\">Los ejemplos constaran de uso de librerias de calculo numerico, estadistico y de visualizacion, se anexo la graficacion en 3D utilizando Matplotlib y manejo de matematica simbolica con sympy, para un ejemplo mas complejo se realizara la simulacion de un sistema de control en lazo cerrado utilizando ecuaciones de espacio de estado y resolviendo por el metodo numerico iterativo de Runge-kutta de orden 4, adiconalmente, el analisis de un sensor de ultrasonido para medir distancia</p>\n",
    "\n",
    "**Autor: Kleiver Carrasco - kleiver615@gmail.com**"
   ]
  },
  {
   "cell_type": "markdown",
   "metadata": {
    "slideshow": {
     "slide_type": "slide"
    }
   },
   "source": [
    "## Librerias\n",
    "\n",
    "<p style=\"text-align: justify\">Lo primero sera importar las librerias, para importar una libreria se utiliza la palabra reservada import, para hacer el uso de las librerias mas facil se les puede asignar un nombre arbitrario y mas corto.</p>"
   ]
  },
  {
   "cell_type": "code",
   "execution_count": null,
   "metadata": {
    "slideshow": {
     "slide_type": "fragment"
    }
   },
   "outputs": [],
   "source": [
    "import scipy as sp"
   ]
  },
  {
   "cell_type": "markdown",
   "metadata": {
    "slideshow": {
     "slide_type": "fragment"
    }
   },
   "source": [
    "<p style=\"text-align: justify\">Con esto hemos importado la libreria scipy y le hemos asignado el nombre de sp, para usarla basta con escribir sp y un punto para acceder a sus atributos.</p>\n",
    "\n",
    "[Documentacion de Scipy](https://docs.scipy.org/doc/scipy/reference/index.html)"
   ]
  },
  {
   "cell_type": "code",
   "execution_count": null,
   "metadata": {
    "slideshow": {
     "slide_type": "fragment"
    }
   },
   "outputs": [],
   "source": [
    "sp.pi"
   ]
  },
  {
   "cell_type": "markdown",
   "metadata": {
    "slideshow": {
     "slide_type": "slide"
    }
   },
   "source": [
    "<p style=\"text-align: justify\">A continuacion vamos a exportar las librerias que se utilizaran durante el resto ejemplos, es costumbre importar todas las librerias primero y en la parte superior del documento.</p>"
   ]
  },
  {
   "cell_type": "code",
   "execution_count": null,
   "metadata": {
    "slideshow": {
     "slide_type": "fragment"
    }
   },
   "outputs": [],
   "source": [
    "# Graficas estaticas en el notebook\n",
    "%matplotlib inline\n",
    "\n",
    "# Graficas interactivas en una ventana aparte\n",
    "# %matplotlib qt \n",
    "\n",
    "# Graficas interactivas, requiere Node.js y la extension de jupyterlab correspondiente\n",
    "# %matplotlib widget \n",
    "\n",
    "from matplotlib import pyplot as plt # Graficacion en 2D\n",
    "from mpl_toolkits.mplot3d import Axes3D # Graficacion en 3D\n",
    "from tqdm import tqdm # Observar progreso de un ciclo\n",
    "import control as ctrl # Libreria de control de procesos\n",
    "import numpy as np # Libreria de calculo numerico n dimensional\n",
    "plt.close('all') # Para limpiar las figuras residuales"
   ]
  },
  {
   "cell_type": "markdown",
   "metadata": {
    "slideshow": {
     "slide_type": "slide"
    }
   },
   "source": [
    "# Inicio de los ejemplos"
   ]
  },
  {
   "cell_type": "markdown",
   "metadata": {
    "slideshow": {
     "slide_type": "fragment"
    }
   },
   "source": [
    "## Ejemplo de graficacion en 3D\n",
    "\n",
    "<p style=\"text-align: justify\">Utilizando Matplotlib se pueden realizar graficas en 3D, en el particular caso de los jupyter notebooks, las graficas siempre son estaticas, no obstante, se puede agregar en la importaciones la linea <b>%matplotlib widget</b> en sustitucion de <b>%matplotlib inline</b> la cual permite tener graficas interactivas.</p>"
   ]
  },
  {
   "cell_type": "markdown",
   "metadata": {
    "slideshow": {
     "slide_type": "notes"
    }
   },
   "source": [
    ">**Nota:** Las graficas en 3D funcionan con <b>%matplotlib inline</b>, pero seran imagenes estaticas,  para volverlas interactivas se debe:\n",
    "1. Descargar e instalar Node.js desde: [Node.js link](https://nodejs.org/es/download/)\n",
    "2. Abrir una consola de comandos (cmd) y ejecutar los siguientes comandos:\n",
    "    1. jupyter labextension install @jupyter-widgets/jupyterlab-manager\n",
    "    2. jupyter labextension install jupyter-matplotlib <br>\n",
    "\n",
    "><p style=\"text-align: justify\">Una vez hecho esto, se puede inicializar jupyterlab como de costumbre y realizar la sustitucion de <b>%matplotlib inline</b> por <b>%matplotlib widget</b> , adicionalmente, si jupyterlab se encuentra ya en ejecucion, es recomendable realizar un reinicio del kernel y volver a ejecutar todas las celdas.</p>\n",
    "><p style=\"text-align: justify\"> Otra opcion es cambiar <b>%matplotlib inline</b> por <b>%matplotlib qt</b> el cual provocara que las graficas ya no se vean en el notebook sino en una ventana aparte, esta ventana sera interactiva. </p>"
   ]
  },
  {
   "cell_type": "markdown",
   "metadata": {
    "slideshow": {
     "slide_type": "subslide"
    }
   },
   "source": [
    "[Galeria de ejemplos de Matplotlib](https://matplotlib.org/gallery/index.html)\n",
    "\n",
    "Como ejemplo se graficara:\n",
    "$$\n",
    "\\begin{align}\n",
    "    z = \\sin (x) + \\cos (y) \\quad con\\quad x,y \\in [-5, 5]\n",
    "\\end{align}\n",
    "$$"
   ]
  },
  {
   "cell_type": "code",
   "execution_count": null,
   "metadata": {
    "slideshow": {
     "slide_type": "fragment"
    }
   },
   "outputs": [],
   "source": [
    "x_samp = np.linspace(-5, 5, 20)\n",
    "y_samp = np.linspace(-5, 5, 20)\n",
    "x, y = np.meshgrid(x_samp, y_samp)\n",
    "\n",
    "z = np.sin(x) + np.cos(y)\n",
    "\n",
    "fig = plt.figure(figsize=(9, 5))\n",
    "ax = fig.add_subplot(111, projection='3d')\n",
    "plt.title('Grafica en 3D')\n",
    "surf = ax.plot_surface(x, y, z, cmap='viridis')"
   ]
  },
  {
   "cell_type": "markdown",
   "metadata": {
    "slideshow": {
     "slide_type": "slide"
    }
   },
   "source": [
    "## Matematica simbolica\n",
    "\n",
    "Para realizar matematica simbolica se utiliza la libreria sympy, en la siguiente celda vamos a importar la libreria para mostrar que no es necesario realizar siempre la importacion en el tope del notebook.\n",
    "\n",
    "[Documentacion de sympy](https://docs.sympy.org/latest/index.html)"
   ]
  },
  {
   "cell_type": "code",
   "execution_count": null,
   "metadata": {
    "slideshow": {
     "slide_type": "subslide"
    }
   },
   "outputs": [],
   "source": [
    "import sympy\n",
    "from IPython.display import display\n",
    "\n",
    "x, f, a, b = sympy.symbols('x f(x) a b')\n",
    "\n",
    "# Funcion a integrar\n",
    "print('Funcion a integrar')\n",
    "display(sympy.Eq(f, x**2 * sympy.exp(x) * sympy.cos(x)))\n",
    "display(sympy.Integral(f, (x, a, b)))\n",
    "display(sympy.Integral(x**2 * sympy.exp(x) * sympy.cos(x), (x, a, b)))\n",
    "\n",
    "print('Resultado simbolico')\n",
    "display(sympy.integrate(x**2 * sympy.exp(x) * sympy.cos(x), (x, a, b)))"
   ]
  },
  {
   "cell_type": "code",
   "execution_count": null,
   "metadata": {
    "slideshow": {
     "slide_type": "subslide"
    }
   },
   "outputs": [],
   "source": [
    "# Se puede obtener el resultado numerico si sustituimos a y b por valores\n",
    "print('Resultado numerico')\n",
    "display(sympy.integrate(x**2 * sympy.exp(x) * sympy.cos(x), (x, 0, 1)))"
   ]
  },
  {
   "cell_type": "code",
   "execution_count": null,
   "metadata": {
    "slideshow": {
     "slide_type": "fragment"
    }
   },
   "outputs": [],
   "source": [
    "# Otro modo es obtener el resultado simbolico y luego si realizar la sustitucio de a y b\n",
    "inte_result = sympy.integrate(x**2 * sympy.exp(x) * sympy.cos(x), (x, a, b))\n",
    "print('Resultado numerico alterno')\n",
    "display(inte_result.evalf(subs={a:0, b:1}))"
   ]
  },
  {
   "cell_type": "markdown",
   "metadata": {
    "slideshow": {
     "slide_type": "slide"
    }
   },
   "source": [
    "## Ecuaciones de espacio de estado\n",
    "\n",
    "<p style=\"text-align: justify\">En ingeniería de control, una representación de espacios de estados es un modelo matemático de un sistema físico descrito mediante un conjunto de entradas, salidas y variables de estado relacionadas por ecuaciones diferenciales de primer orden. Su forma generica viene dada por:</p>\n",
    "\n",
    "$$\n",
    "\\begin{align}\n",
    "    \\dot{x}(t) &= Ax(t) + Bu(t) \\tag{1} \\\\\n",
    "    y(t) &= Cx(t) + Du(t) \\tag{2}\n",
    "\\end{align}\n",
    "$$\n",
    "\n",
    "Representando x, y, u, A, B, C y D en sus formas de matriz queda como sigue:\n",
    "\n",
    "$$\n",
    "\\begin{bmatrix}\n",
    "\\dot{x}_{1}\\\\\n",
    "\\dot{x}_{2}\\\\\n",
    "\\vdots\\\\\n",
    "\\dot{x}_{n}\\\\\n",
    "\\end{bmatrix}=\n",
    "\\begin{bmatrix}\n",
    "a_{11} & a_{12} & \\cdots & a_{1n}\\\\\n",
    "a_{21} & a_{22} & \\cdots & a_{2n}\\\\\n",
    "\\vdots & \\vdots & \\ddots & \\vdots\\\\\n",
    "a_{n1} & a_{n2} & \\cdots & a_{nn}\\\\\n",
    "\\end{bmatrix}\n",
    "\\begin{bmatrix}\n",
    "x_{1}\\\\\n",
    "x_{2}\\\\\n",
    "\\vdots\\\\\n",
    "x_{n}\\\\\n",
    "\\end{bmatrix}+\n",
    "\\begin{bmatrix}\n",
    "b_{11} & b_{12} & \\cdots & b_{1n}\\\\\n",
    "b_{21} & b_{22} & \\cdots & b_{2n}\\\\\n",
    "\\vdots & \\vdots & \\ddots & \\vdots\\\\\n",
    "b_{n1} & b_{n2} & \\cdots & b_{nn}\\\\\n",
    "\\end{bmatrix}.\n",
    "\\begin{bmatrix}\n",
    "u_{1}\\\\\n",
    "u_{2}\\\\\n",
    "\\vdots\\\\\n",
    "u_{n}\\\\\n",
    "\\end{bmatrix} \\tag{3}\n",
    "$$\n",
    "\n",
    "$$\n",
    "\\begin{bmatrix}\n",
    "y_{1}\\\\\n",
    "y_{2}\\\\\n",
    "\\vdots\\\\\n",
    "y_{n}\\\\\n",
    "\\end{bmatrix}=\n",
    "\\begin{bmatrix}\n",
    "c_{11} & c_{12} & \\cdots & c_{1n}\\\\\n",
    "c_{21} & c_{22} & \\cdots & c_{2n}\\\\\n",
    "\\vdots & \\vdots & \\ddots & \\vdots\\\\\n",
    "c_{n1} & c_{n2} & \\cdots & c_{nn}\\\\\n",
    "\\end{bmatrix}\n",
    "\\begin{bmatrix}\n",
    "x_{1}\\\\\n",
    "x_{2}\\\\\n",
    "\\vdots\\\\\n",
    "x_{n}\\\\\n",
    "\\end{bmatrix}+\n",
    "\\begin{bmatrix}\n",
    "d_{11} & d_{12} & \\cdots & d_{1n}\\\\\n",
    "d_{21} & d_{22} & \\cdots & d_{2n}\\\\\n",
    "\\vdots & \\vdots & \\ddots & \\vdots\\\\\n",
    "d_{n1} & d_{n2} & \\cdots & d_{nn}\\\\\n",
    "\\end{bmatrix}.\n",
    "\\begin{bmatrix}\n",
    "u_{1}\\\\\n",
    "u_{2}\\\\\n",
    "\\vdots\\\\\n",
    "u_{n}\\\\\n",
    "\\end{bmatrix} \\tag{4}\n",
    "$$"
   ]
  },
  {
   "cell_type": "markdown",
   "metadata": {
    "slideshow": {
     "slide_type": "subslide"
    }
   },
   "source": [
    "### Metodo de Runge-Kutta de 4th orden\n",
    "\n",
    "<p style=\"text-align: justify\">El metodo de Runge-Kutta es un metodo de resolucion de sistemas de ecuaciones diferenciales ordinarias de primer orden de forma iterativa, es decir, de forma numerica y aproximada, el metodo se puede aplicar con los siguientes calculos:</p>\n",
    "\n",
    "$$\n",
    "\\begin{align}\n",
    "k_1^i &= h\\cdot f_i(t_n,\\ x^{(n)}) \\tag{5}\\\\\n",
    "k_2^i &= h\\cdot f_i(t_n + \\frac{h}{2},\\ x^{(n)} + \\frac{k_1}{2}) \\tag{6}\\\\\n",
    "k_3^i &= h\\cdot f_i(t_n + \\frac{h}{2},\\ x^{(n)} + \\frac{k_2}{2}) \\tag{7}\\\\\n",
    "k_4^i &= h\\cdot f_i(t_n + h,\\ x^{(n)} + k_3) \\tag{8}\n",
    "\\end{align}\n",
    "$$\n",
    "\n",
    "<p style=\"text-align: justify\">Donde h es el tamaño de paso, al final de cada iteracion se debe calcular el siguiente valor de x:</p>\n",
    "\n",
    "$$\n",
    "x^{(n+1)} = x^{(n)} + \\frac{1}{6} (k_1 + 2k_2 + 2k_3 + k_4)\\tag{9}\n",
    "$$\n",
    "\n",
    "<p style=\"text-align: justify\">Luego basta con sustituir todos los $x^{(n)}$ en la ecuacion $y(t) = Cx(t) + Du(t)$ para obtener los valores de salida. El siguiente codigo es una forma de resolver ecuaciones diferenciales de forma iterativa utilizando Runge-Kutta:</p>"
   ]
  },
  {
   "cell_type": "code",
   "execution_count": null,
   "metadata": {
    "slideshow": {
     "slide_type": "subslide"
    }
   },
   "outputs": [],
   "source": [
    "def runge_kutta(t, ss, h, x, u):\n",
    "    k1 = h * (ss.A * x + ss.B * u)\n",
    "    k2 = h * (ss.A * (x+k1/2) + ss.B * u)\n",
    "    k3 = h * (ss.A * (x+k2/2) + ss.B * u)\n",
    "    k4 = h * (ss.A * (x+k3) + ss.B * u)\n",
    "    x = x + (1/6)*(k1 + 2*k2 + 2*k3 + k4)\n",
    "    y = ss.C * x + ss.D * u\n",
    "    return y, x"
   ]
  },
  {
   "cell_type": "markdown",
   "metadata": {
    "slideshow": {
     "slide_type": "subslide"
    }
   },
   "source": [
    "### Controlador PID\n",
    "\n",
    "<p style=\"text-align: justify\">Para demostrar el uso del metodo de Runge-Kutta, se ejecutara una prueba escalon a un proceso, para esto, vamos a realizar un lazo cerrado junto con un controlador PID, un PID puede ser representado en el dominio del tiempo con la siguiente ecuacion:</p>\n",
    "\n",
    "\\begin{equation}\n",
    "sc(t) = K_{p}e(t)+  K_{i}\\int_{0}^{t}e(\\tau) d\\tau + K_{d} \\frac{d}{dt}e(t) \\tag{10}\n",
    "\\end{equation}\n",
    "\n",
    "El codigo que defino al controlador es el siguiente:"
   ]
  },
  {
   "cell_type": "code",
   "execution_count": null,
   "metadata": {
    "slideshow": {
     "slide_type": "fragment"
    }
   },
   "outputs": [],
   "source": [
    "def PID(vm, set_point, ts, s_integral, error_anterior):\n",
    "    error = set_point - vm\n",
    "    error_anterior = error\n",
    "    s_proporcional = error\n",
    "    s_integral = s_integral + error * ts\n",
    "    s_derivativa = (error - error_anterior) / ts\n",
    "    s_control = s_proporcional * kp + s_integral * ki + s_derivativa * kd\n",
    "    return s_control, s_integral, error_anterior"
   ]
  },
  {
   "cell_type": "markdown",
   "metadata": {
    "slideshow": {
     "slide_type": "subslide"
    }
   },
   "source": [
    "#### Prueba en lazo abierto\n",
    "\n",
    "<p style=\"text-align: justify\">Antes de pasar a realizar el calculo para lazo cerrado, vamos a utilizar la libreria de control para realizar la prueba escalon en lazo abierto y compararla con la version RK. El proceso que vamos a utilizar viene dado por la siguiente funcion de transferencia:</p>\n",
    "\n",
    "\\begin{equation}\\label{eq:pidtiempo}\n",
    "H(s) = \\frac{s + 2}{s^2 + 2s + 5} \\tag{11}\n",
    "\\end{equation}\n"
   ]
  },
  {
   "cell_type": "code",
   "execution_count": null,
   "metadata": {
    "slideshow": {
     "slide_type": "subslide"
    }
   },
   "outputs": [],
   "source": [
    "# Definicion del proceso\n",
    "proceso1 = ctrl.tf([1, 2], [1, 2, 5])\n",
    "\n",
    "# Con libreria de control\n",
    "tiempo_a, out_a = ctrl.step_response(proceso1)\n",
    "\n",
    "# Con RK\n",
    "proceso1_rk = ctrl.tf2ss(proceso1)\n",
    "x0 = np.zeros_like(proceso1_rk.B)\n",
    "h_p = 0.01\n",
    "\n",
    "# Para coordinar tiempos se utilizara el vector de tiempo generado por la libreria de control\n",
    "rk_tiempo = np.linspace(0, max(tiempo_a), int(max(tiempo_a)/h_p) + 1)\n",
    "rk_out = [0]\n",
    "\n",
    "for i in rk_tiempo[1:]:\n",
    "    temp, x0 = runge_kutta(i, proceso1_rk, h_p, x0, 1)\n",
    "    rk_out.append(np.asscalar(temp[0]))\n",
    "\n",
    "plt.figure(figsize=(9,5))\n",
    "plt.plot(tiempo_a, out_a, 'r', linewidth=1.5, label='Original')\n",
    "plt.plot(rk_tiempo, rk_out, linestyle=':', linewidth=4, label='RK', dashes=(1, 2))\n",
    "plt.title('Respuesta escalon en lazo abierto')\n",
    "plt.legend()\n",
    "plt.grid()"
   ]
  },
  {
   "cell_type": "markdown",
   "metadata": {
    "slideshow": {
     "slide_type": "subslide"
    }
   },
   "source": [
    "### Prueba en lazo cerrado\n",
    "\n",
    "<p style=\"text-align: justify\">Lo siguiente sera crear de forma manual un ciclo que recreara el lazo cerrado de control, se inicializaran las variables que se consideren. Finalmente se grafican los resultados obtenidos y se comparan con la respuesta dada por la libreria de control. Se debe aclarar que aunque se utilizara un controlador PID, la unica ganancia activa sera Kp y esta estara en un valor igual a 1, esto es igual a que si el PID no existiera, esto se realizo de este modo para mantener la prueba simple.</p>\n",
    "\n",
    "><p style=\"text-align: justify\"><b>Nota:</b> El codigo del PID es 100% funcional, por tanto, si se asignan otros valores a kp, ki, y kd se pueden ver los efectos del controlador en accion.</p>"
   ]
  },
  {
   "cell_type": "code",
   "execution_count": null,
   "metadata": {
    "slideshow": {
     "slide_type": "subslide"
    }
   },
   "outputs": [],
   "source": [
    "proceso = ctrl.tf([1, 2], [1, 2, 5])\n",
    "\n",
    "# Con libreria de control\n",
    "feedbackp = ctrl.feedback(proceso)\n",
    "tiempo_c, out_c = ctrl.step_response(feedbackp)\n",
    "\n",
    "# Con RK\n",
    "proceso = ctrl.tf2ss(proceso)\n",
    "dt = 0.01\n",
    "\n",
    "# Para coordinar tiempos se utilizara el vector de tiempo generado por la libreria de control\n",
    "rk_tiempoc = np.linspace(0, max(tiempo_c), int(max(tiempo_c)/dt) + 1) # Tiempo de simulacion\n",
    "\n",
    "x0 = np.zeros_like(proceso.B)\n",
    "Vp = 0\n",
    "error_a = 0\n",
    "si_t = 0\n",
    "\n",
    "salida = [0]\n",
    "señal_g = [0]\n",
    "\n",
    "# Ganancias del PID\n",
    "kp = 1\n",
    "ki = 0\n",
    "kd = 0\n",
    "\n",
    "for i in tqdm(rk_tiempoc[1:]):\n",
    "    sc_t, si_t, error_a = PID(Vp, 1, dt, si_t, error_a)\n",
    "    y_t, x_t = runge_kutta(i, proceso, dt, x0, sc_t)\n",
    "    Vp = np.asscalar(y_t[0])\n",
    "    x0 = x_t\n",
    "    señal_g.append(sc_t)\n",
    "    salida.append(Vp)\n",
    "\n",
    "plt.figure(figsize=(9,5))\n",
    "plt.plot(tiempo_c, out_c, 'r', linewidth=1.5, label='Original')\n",
    "plt.plot(rk_tiempoc, salida, linestyle=':', linewidth=4, label='RK', dashes=(1, 2))\n",
    "plt.title('Respuesta escalon en lazo cerrado')\n",
    "plt.legend()\n",
    "plt.grid()"
   ]
  },
  {
   "cell_type": "markdown",
   "metadata": {
    "slideshow": {
     "slide_type": "subslide"
    }
   },
   "source": [
    "### Utilidad\n",
    "\n",
    "<p style=\"text-align: justify\">Entonces, ¿Para que utilizar el metodo de Runge-Kutta si el codigo por libreria es mucho mas corto? La respuesta es simple, la libreria de control solo es compatible con funciones de transferencia y ecuaciones de espacio de estado, si se quisiera simular un controlador difuso, no habria modo de simularlo utilizando la libreria de control, por el contrario, para el caso por Runge-Kutta acoplar un controlador difuso seria relativamente simple, bastaria con sustituir la funcion del PID por la correspondiente al controlador difuso. Adicionalmente, si se quiere simular muestra a muestra la libreria de control no seria apta, mientras que Runge-Kutta seria ideal por ser un metodo de resolucion iterativo.</p>"
   ]
  },
  {
   "cell_type": "markdown",
   "metadata": {
    "slideshow": {
     "slide_type": "subslide"
    }
   },
   "source": [
    "## Sensor de ultrasonido"
   ]
  },
  {
   "cell_type": "markdown",
   "metadata": {
    "slideshow": {
     "slide_type": "fragment"
    }
   },
   "source": [
    "### Principio de funcionamiento\n",
    "\n",
    "<p style=\"text-align: justify\">Los dispositivos de ultrasonido son usados en muchos campos de medida, particularmente para medir flujo, nivel y desplazamiento. El ultrasonido es una banda de frecuencias que se encuentra por arriba de los 20 kHz, esto es, por arriba del rango de frecuencias audibles para el humano. Los dispositivos de medida que hacen uso del ultrasonido consisten de un emisor de ondas de ultrasonido y un receptor de la onda, la variable medida es determinada midiendo el cambio en el tiempo que le toma a la onda viajar entre el emisor y el receptor.</p>\n",
    "\n",
    "<p style=\"text-align: justify\">La forma más común de sensor de ultrasonido es usando un cristal piezoeléctrico contenido en un encapsulado. Este elemento puede operar como emisor y como receptor, están disponibles para operar con frecuencias que varían entre 20 kHz y 15 MHz.La velocidad de transmisión del ultrasonido cambia en función del medio por el que se propaga, cuando se propaga por el aire, la velocidad del ultrasonido es afectada por factores ambientales tales como temperatura, humedad y turbulencia en el aire. Entre los factores que afectan al ultrasonido, la temperatura tiene el mayor efecto. La velocidad del ultrasonido varia con la temperatura de acuerdo a:</p>\n",
    "\n",
    "\\begin{equation}\\label{eq:Tsound}\n",
    "V = 331.6+0.6T\\ m/s \\tag{12}\n",
    "\\end{equation}\n",
    "\n",
    "#### Datos tecnicos del sensor\n",
    "\n",
    "- Modelo: LV-MaxSonar-EZ1\n",
    "- Voltaje de alimentación: (5.5 - 2.5) $\\left[ V\\right]$\n",
    "- Frecuencia de operación: 42 kHz \n",
    "- Rango de detección: (254 - 0) $\\left[ in\\right]$ \n",
    "- Rango útil: (254 - 6) $\\left[ in\\right]$\n",
    "- Resolución: 1 $\\left[ in\\right]$\n",
    "\n",
    "<p style=\"text-align: justify\">Las distancias utilizando el sensor fueron tomas desde 20cm hasta 80cm, su salida fue medida con un voltimetro, los datos se encuentras en milivoltios. Se realizara un analisis estadistico del sensor utilizando la libreria de estadisticas pandas.</p>\n",
    "\n",
    "[Documentacion de Pandas](https://pandas.pydata.org/pandas-docs/stable/)\n",
    "\n",
    "<p style=\"text-align: justify\">Lo primero sera importar las librerias que no se han cargado aun, como pandas, ademas, cargaremos la data en un DataFrame de pandas, el DataFrame puede ser creado a partir de multiples formatos de archivos como .csv o .xls, en este caso hemos cargado la data manualmente y transformando los milivoltios a cm utilizando la formula del fabricante.</p>\n",
    "\n",
    "\\begin{align}\\label{eq:mvin}\n",
    "d\\left[in \\right] &= \\frac{mV}{1000}\\times\\frac{512}{Vcc}\\left[in \\right] \\tag{13} \\\\\n",
    "d\\left[cm \\right] &= d\\left[in \\right]\\times\\frac{1cm}{0.3937in} \\tag{14} \\\\\n",
    "\\end{align}\n",
    "\n",
    "<p style=\"text-align: justify\">El voltaje a la hora de la medicion fue de Vcc = 4.88V, este voltaje fue el arrojado por la fuente de voltaje del laboratorio.</p>"
   ]
  },
  {
   "cell_type": "code",
   "execution_count": null,
   "metadata": {
    "slideshow": {
     "slide_type": "subslide"
    }
   },
   "outputs": [],
   "source": [
    "import pandas as pd\n",
    "import matplotlib.ticker as mticker\n",
    "\n",
    "pd.options.display.max_rows = 10\n",
    "pd.options.display.float_format = '{:.3f}'.format\n",
    "\n",
    "n_patrones = 7\n",
    "n_filas = 8\n",
    "\n",
    "Data_Calibracion = pd.DataFrame(np.array([[20,30,40,50,60,70,80],\n",
    "                                          [82.2,119.7,148.5,187.5,226.1,254.2,292.3],\n",
    "                                          [84,122.8,151.4,189.5,225.3,260.1,295],\n",
    "                                          [84.3,122.4,151.5,189.4,227.3,262.5,295.1],\n",
    "                                          [86.1,125.3,154,191,229,261.2,294.9],\n",
    "                                          [84.5,123.5,152.6,192,231,266,296],\n",
    "                                          [86,124,152,190,227,264,296],\n",
    "                                          [85,123,152.2,191.5,230,267,295.6],\n",
    "                                          [84.2,123,152.5,191,229.5,267.2,296.2]]))\n",
    "\n",
    "header = Data_Calibracion.iloc[0]\n",
    "Data_Calibracion = Data_Calibracion[1:]\n",
    "Data_Calibracion.columns = header\n",
    "\n",
    "# Llevando milivoltios a cm\n",
    "Data_Calibracion = Data_Calibracion.divide(1000)\n",
    "Data_Calibracion = Data_Calibracion.multiply(512/4.88)\n",
    "Data_Calibracion = Data_Calibracion.divide(0.3937)"
   ]
  },
  {
   "cell_type": "markdown",
   "metadata": {
    "slideshow": {
     "slide_type": "subslide"
    }
   },
   "source": [
    "<p style=\"text-align: justify\">El comando describe() genera datos estadisticos basicos del DataFrame como media, desviacion estandar y cuartiles para cada columna, ademas, pandas permite calcular muchos otros datos estadisticos.</p>"
   ]
  },
  {
   "cell_type": "code",
   "execution_count": null,
   "metadata": {
    "slideshow": {
     "slide_type": "fragment"
    }
   },
   "outputs": [],
   "source": [
    "Data_Calibracion.describe()"
   ]
  },
  {
   "cell_type": "code",
   "execution_count": null,
   "metadata": {
    "slideshow": {
     "slide_type": "subslide"
    }
   },
   "outputs": [],
   "source": [
    "# Calculo de datos estadisticos\n",
    "\n",
    "# Creando un nuevo DataFrame\n",
    "Stats_results = pd.DataFrame()\n",
    "\n",
    "Stats_results['Media'] = Data_Calibracion.mean()\n",
    "Stats_results['Desviacion Estandar'] = Data_Calibracion.std()\n",
    "Stats_results['Desviacion Media'] = Data_Calibracion.mad()\n",
    "Stats_results['Mediana'] = Data_Calibracion.median()\n",
    "Stats_results['Varianza'] = Data_Calibracion.var()\n",
    "Stats_results['Error estandar de la media'] = Data_Calibracion.sem()\n",
    "Stats_results['Curtosis'] = Data_Calibracion.kurt()\n",
    "\n",
    "Stats_results.index.name = 'Patrones'\n",
    "Stats_results.T"
   ]
  },
  {
   "cell_type": "markdown",
   "metadata": {
    "slideshow": {
     "slide_type": "subslide"
    }
   },
   "source": [
    "<p style=\"text-align: justify\">Pandas permite realizar multiples graficas estadisticas para los DataFrame, en este caso vamos a visualizar los histogramas y una grafica de cajas de bitoges.</p>"
   ]
  },
  {
   "cell_type": "code",
   "execution_count": null,
   "metadata": {
    "slideshow": {
     "slide_type": "fragment"
    }
   },
   "outputs": [],
   "source": [
    "# Histogramas\n",
    "Data_Calibracion.hist(figsize=(10,6))\n",
    "plt.suptitle('Histogramas')\n",
    "plt.subplots_adjust(hspace=0.5)"
   ]
  },
  {
   "cell_type": "code",
   "execution_count": null,
   "metadata": {
    "slideshow": {
     "slide_type": "subslide"
    }
   },
   "outputs": [],
   "source": [
    "# Cajas y bigotes\n",
    "Estilo_Outliers = dict(marker='o', markerfacecolor='red', markersize=7)\n",
    "Data_Calibracion.boxplot(flierprops=Estilo_Outliers,figsize=(12,7))\n",
    "plt.gca().yaxis.set_major_formatter(mticker.FormatStrFormatter('%.1f cm'))"
   ]
  },
  {
   "cell_type": "markdown",
   "metadata": {
    "slideshow": {
     "slide_type": "subslide"
    }
   },
   "source": [
    "### Linealidad\n",
    "\n",
    "<p style=\"text-align: justify\">Para el calculo de linealidad se construye una gráfica de valor medido vs valor patrón los dos en porcentaje del SPAN. Se trazan dos rectas paralelas que cubra toda la dispersión de puntos de la gráfica.</p>\n",
    "    \n",
    "\\begin{equation}\\label{eq:15}\\tag{15}\n",
    "Lin\\left(\\%\\right) =\\pm\\frac{1}{2}\\times\\frac{\\left|V_{1}-V_{2}\\right|}{SPAN}\n",
    "\\end{equation}"
   ]
  },
  {
   "cell_type": "code",
   "execution_count": null,
   "metadata": {
    "slideshow": {
     "slide_type": "subslide"
    }
   },
   "outputs": [],
   "source": [
    "# Linealidad ------------------------------------------------------------------------\n",
    "Valores = Data_Calibracion.values\n",
    "ValorEntrada = np.array([20, 30, 40, 50, 60, 70, 80])\n",
    "ValorSalida = Valores\n",
    "span = 60\n",
    "Span_real = (ValorEntrada-20) * 100 /span\n",
    "\n",
    "Valor_medido_span = (ValorSalida-20)*100/span\n",
    "plt.figure(1,figsize=(12,8))\n",
    "plt.gca().xaxis.set_major_formatter(mticker.FormatStrFormatter('%d %%'))\n",
    "plt.gca().yaxis.set_major_formatter(mticker.FormatStrFormatter('%d %%'))\n",
    "ScaSize = 9*[20]\n",
    "\n",
    "Resta = Valor_medido_span-Span_real\n",
    "bias_positivo = np.max(Resta)\n",
    "bias_negativo = np.min(Resta)\n",
    "\n",
    "# Graficacion y detalles del plot\n",
    "plt.plot([-10,110], [-10+bias_positivo,110+bias_positivo], linestyle='--',\n",
    "         label='Recta paralela +', alpha= 0.5, color='darkcyan' )\n",
    "plt.plot([-10,110], [-10+bias_negativo,110+bias_negativo], linestyle='--',\n",
    "         label='Recta paralela -', alpha= 0.5, color='darkcyan' )\n",
    "\n",
    "plt.plot([0,100], [0,100], label='Recta Optima', linewidth=2, alpha=0.8, color='darksalmon')\n",
    "plt.plot([60,60], [20,100], label='Recta para señalar V1 y V2', linestyle='-.', alpha=0.5, color='darkgreen', linewidth=3)\n",
    "\n",
    "# labels\n",
    "plt.annotate('V1', (61,74), arrowprops=dict(arrowstyle='->'), xytext=(65, 87))\n",
    "plt.annotate('V2', (61,56), arrowprops=dict(arrowstyle='->'), xytext=(65, 47))\n",
    "\n",
    "# Mediciones Scatter plot\n",
    "for i in range(n_filas):\n",
    "    plt.scatter(Span_real, Valor_medido_span[i], color='navy', s = ScaSize)\n",
    "\n",
    "plt.legend([\"Recta paralela +\",\"Recta paralela -\", \"Recta optima\", \"Recta para señalar V1 y V2\", \"Mediciones\"])\n",
    "\n",
    "# Ejes\n",
    "plt.plot([0,0],[-10,120], label='% Medicion', alpha= 0.4, linewidth=3, color='k', linestyle='--')\n",
    "plt.annotate('% Medicion', (-12,110))\n",
    "plt.plot([-10,110],[0,0], label='% Patron', alpha= 0.4, linewidth=3, color='k', linestyle='--')\n",
    "plt.annotate('% Patron', (100,-10))\n",
    "plt.grid()\n",
    "plt.show()"
   ]
  },
  {
   "cell_type": "markdown",
   "metadata": {},
   "source": [
    "<p style=\"text-align: justify\">Calculando $V_{1}$ y $V_{2}$ de manera gráfica y aplicando (15) con $V_{1}$ y $V_{2}$ se obtuvo:</p>"
   ]
  },
  {
   "cell_type": "code",
   "execution_count": null,
   "metadata": {
    "slideshow": {
     "slide_type": "fragment"
    }
   },
   "outputs": [],
   "source": [
    "# Calculo de linealidad\n",
    "Linealidad = (1/2)*abs((Span_real+bias_positivo)-(Span_real+bias_negativo)) \n",
    "\n",
    "print(\" Linealidad : \",Linealidad[0],\"%\")"
   ]
  },
  {
   "cell_type": "markdown",
   "metadata": {
    "slideshow": {
     "slide_type": "subslide"
    }
   },
   "source": [
    "### Estimacion con polinomio\n",
    "\n",
    "Para estimar la respuesta del sensor de ultrasonido se realizara el calculo de un polinomio de grado 7 de la forma:\n",
    "\n",
    "\\begin{equation}\\label{eq:Polinomio}\n",
    "f\\left(x \\right)=a_{7}x^{7}+a_{6}x^{6}+a_{5}x^{5}+a_{4}x^{4}+a_{3}x^{3}+a_{2}x^{2}+a_{1}x^{1}+a_{0} \\tag{16}\n",
    "\\end{equation}\n",
    "\n",
    "Python se utilizara para obtener los coeficientes $a_7, a_6, a_5, a_4, a_3, a_2, a_1\\ y\\ a_0$, se compara la respuesta teorica esperada (linea recta) con la respuesta real obtenida (muestras) y la respuesta dada por el polinomio de grado 7."
   ]
  },
  {
   "cell_type": "code",
   "execution_count": null,
   "metadata": {
    "slideshow": {
     "slide_type": "subslide"
    }
   },
   "outputs": [],
   "source": [
    "# Mediciones\n",
    "Voltaje = np.asarray([75.3, 84.538, 122.963, 151.838, 190.238, 228.150, 262.775, 295.137, 305.5])\n",
    "\n",
    "# Valores reales + 2 valores extra en los extremos\n",
    "Patrones = np.asarray([17, 20.000, 30.000, 40.000, 50.000, 60.000, 70.000, 80.000, 83 ])\n",
    "\n",
    "z1 = np.polyfit(Voltaje,Patrones,7)\n",
    "print(f\" Coeficientes del polonomio: {z1}\")\n",
    "\n",
    "CentimetrosC = np.poly1d(z1,variable='x')\n",
    "print(f\"\\nPolinomio:\\n{CentimetrosC}  -->    Con x = Voltaje\\n\")\n",
    "\n",
    "plt.figure(1, figsize=(10,7))\n",
    "plt.title(\"Comaparacion entre respuesta real, teorica y estimacion\")\n",
    "plt.gca().xaxis.set_major_formatter(mticker.FormatStrFormatter('%d mV'))\n",
    "plt.gca().yaxis.set_major_formatter(mticker.FormatStrFormatter('%d cm'))\n",
    "\n",
    "plt.scatter(Voltaje , Patrones)\n",
    "plt.plot( Voltaje, CentimetrosC(Voltaje))\n",
    "plt.plot(Voltaje, Voltaje/3.75245)\n",
    "\n",
    "plt.legend([\"Estimacion con polinomio\",\"Respuesta teorica\",\"Respuesta real\"])\n",
    "plt.grid()\n",
    "# plt.savefig(\"Estimacion.pdf\", bbox_inches='tight', pad_inches=0.1, format='pdf')"
   ]
  }
 ],
 "metadata": {
  "kernelspec": {
   "display_name": "Python 3",
   "language": "python",
   "name": "python3"
  },
  "language_info": {
   "codemirror_mode": {
    "name": "ipython",
    "version": 3
   },
   "file_extension": ".py",
   "mimetype": "text/x-python",
   "name": "python",
   "nbconvert_exporter": "python",
   "pygments_lexer": "ipython3",
   "version": "3.7.3"
  },
  "toc-autonumbering": true,
  "toc-showtags": true
 },
 "nbformat": 4,
 "nbformat_minor": 4
}
