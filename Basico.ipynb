{
 "cells": [
  {
   "cell_type": "markdown",
   "metadata": {},
   "source": [
    "# Uso basico de Python y Jupyter notebooks\n",
    "\n",
    "<p style=\"text-align: justify\">El proposito de este notebook es mostrar el potencial de los mismos, python y markdown, un jupyter notebook es un modo de ejecutar codigo python de manera interactiva a traves de celdas, estas podran ejecutarse cuantas veces se quiera y en el orden que se quieran siempre y cuando todas sus variables y dependencias se encuentren definidas.</p>\n",
    "\n",
    "<p style=\"text-align: justify\">\n",
    "Para poder ejecutar una celda basta con seleccionar la celda a ejecutar y  presionar el atajo de teclado <b>ctrl+enter</b>, esto ejecutara el codigo de la celda correspondiente, si se desea ejecutar la celda y avanzar a la siguiente se puede presionar <b>shift+enter</b>, esto ejecutara la celda correspondiente y avanzara a la siguiente celda, si no existen mas celdas, creara una nueva.</p> \n",
    "\n",
    "> <p style=\"text-align: justify\"><b>Nota:</b> Para comprobar el comando de ejecucion, proceda a seleccionar la celda de codigo inmediatamente despues de esta nota y presione <b>ctrl+enter</b>, debera ver la palabra \"Ejecutada\" y un [1] al lado de la celda.</p>\n",
    "\n",
    "**Autor: Kleiver Carrasco - kleiver615@gmail.com**"
   ]
  },
  {
   "cell_type": "code",
   "execution_count": null,
   "metadata": {},
   "outputs": [],
   "source": [
    "print('Ejecutada')"
   ]
  },
  {
   "cell_type": "markdown",
   "metadata": {},
   "source": [
    "## Celdas tipo Markdown\n",
    "\n",
    "<p style=\"text-align: justify\">Las celdas markdown aceptan el codigo markdown, que es un tipo de lenguaje de marcacion, este permite crear texto enriquecido y ademas permite realizar ecuaciones utilizando la sintaxis de LaTEx. No existe la necesidad de tener que ejecutar estas celdas, no obstante, si se quieren editar, basta con presionar doble clic en la celda, una vez finalizada la edicion, se puede proceder a presionar <b>ctrl+enter</b> para realizar el renderizado de la celda. Para comprobar esto, dar doble clic a esta celda</p>"
   ]
  },
  {
   "cell_type": "markdown",
   "metadata": {},
   "source": [
    "## Expresiones matematicas\n",
    "\n",
    "<p style=\"text-align: justify\">En las celdas tipo markdown se puede realizar expresiones matematicas en la linea del texto como $x(t) = \\frac{\\tau}{\\alpha}$ adicionalmente se pueden mostrar formulas en su propia linea con su respectivo numero de ecuacion:</p>\n",
    "\n",
    "$$\n",
    "\\begin{align}\n",
    "    A=\n",
    "    \\begin{bmatrix}\n",
    "        1  &  2  &  3  &  4 \\\\\n",
    "        5  &  6  &  7  &  8 \\\\\n",
    "        9  & 10  & 11  & 12 \\\\\n",
    "    \\end{bmatrix}\\tag{1}\n",
    "\\end{align}\n",
    "$$\n",
    "\n",
    "<p style=\"text-align: justify\">Para darle formato a las ecuaciones se utilizan comandos con sintaxis de LaTex.</p>"
   ]
  },
  {
   "cell_type": "markdown",
   "metadata": {
    "toc-hr-collapsed": false
   },
   "source": [
    "## Python\n",
    "\n",
    "<p style=\"text-align: justify\">El lenguaje python es un lenguaje dinamico e interpretado, por tanto, permite la creacion de scrips y la ejecucion de pequeñas porciones de codigo, sabiendo ya como ejecutar celdas, proceda a ejecutar las siguientes celdas de codigo para observar el funcionamiento basico de Python</p>"
   ]
  },
  {
   "cell_type": "code",
   "execution_count": null,
   "metadata": {},
   "outputs": [],
   "source": [
    "2+2"
   ]
  },
  {
   "cell_type": "code",
   "execution_count": null,
   "metadata": {},
   "outputs": [],
   "source": [
    "2*5"
   ]
  },
  {
   "cell_type": "code",
   "execution_count": null,
   "metadata": {},
   "outputs": [],
   "source": [
    "2/7"
   ]
  },
  {
   "cell_type": "code",
   "execution_count": null,
   "metadata": {},
   "outputs": [],
   "source": [
    "3**2"
   ]
  },
  {
   "cell_type": "code",
   "execution_count": null,
   "metadata": {},
   "outputs": [],
   "source": [
    "'hola'"
   ]
  },
  {
   "cell_type": "markdown",
   "metadata": {},
   "source": [
    "<p style=\"text-align: justify\">Ejemplo de una lista, una lista puede almacenar muchos tipos de datos incluyendo otras listas, para acceder a valors especificos basta con colocar el indice entre corchetes como se vera mas adelante.</p>"
   ]
  },
  {
   "cell_type": "code",
   "execution_count": null,
   "metadata": {},
   "outputs": [],
   "source": [
    "[1, 2, 'hola', .5, True, [1, 2, 3]]"
   ]
  },
  {
   "cell_type": "markdown",
   "metadata": {},
   "source": [
    "<p style=\"text-align: justify\">Notese como los resultados son mostrados automaticamente, esto sucede siempre y cuando el comando no sea un asignacion de variable, y ademas, solo muestra el resultado de la ultima linea.</p>"
   ]
  },
  {
   "cell_type": "code",
   "execution_count": null,
   "metadata": {},
   "outputs": [],
   "source": [
    "a = 2+2"
   ]
  },
  {
   "cell_type": "code",
   "execution_count": null,
   "metadata": {},
   "outputs": [],
   "source": [
    "# mostrando \"a\"\n",
    "a"
   ]
  },
  {
   "cell_type": "code",
   "execution_count": null,
   "metadata": {},
   "outputs": [],
   "source": [
    "h = [1, 2, 'hola', .5, True, [1, 2, 3]]"
   ]
  },
  {
   "cell_type": "code",
   "execution_count": null,
   "metadata": {},
   "outputs": [],
   "source": [
    "# Uso de listas\n",
    "print(h[0])\n",
    "print(h[2])\n",
    "print(h[4])\n",
    "print(h[5])\n",
    "h[5][1]"
   ]
  },
  {
   "cell_type": "markdown",
   "metadata": {
    "toc-hr-collapsed": false
   },
   "source": [
    "### Condiciones y ciclos\n",
    "\n",
    "<p style=\"text-align: justify\">A diferencia de la mayoria de lenguajes, Python no utiliza llaves {} para rodear las funciones, en cambio, utiliza un sistema de indentacion (sangria), todo lo que se encuentre a la misma identacion, se encuentra en un mismo nivel, despues de una funcion que implique algun bloque, se necesita realizar una indentacion.</p>"
   ]
  },
  {
   "cell_type": "markdown",
   "metadata": {},
   "source": [
    "#### Condiciones"
   ]
  },
  {
   "cell_type": "code",
   "execution_count": null,
   "metadata": {},
   "outputs": [],
   "source": [
    "a = 2\n",
    "b = 1\n",
    "\n",
    "if a>b:\n",
    "    print('a es mayor que b')\n",
    "else:\n",
    "    print('b es mayor que a')\n",
    "\n",
    "print('Esto esta fuera de la clausula else, por tanto, se imprimira')"
   ]
  },
  {
   "cell_type": "code",
   "execution_count": null,
   "metadata": {},
   "outputs": [],
   "source": [
    "a = True\n",
    "b = 'hola'\n",
    "c = 5\n",
    "d = .07\n",
    "\n",
    "if a and b is 'hola' and c < 3 and type(d) == float:\n",
    "    print('Todas las condiciones se cumplieron')\n",
    "    \n",
    "c = 2\n",
    "\n",
    "if a and b is 'hola' and c < 3 and type(d) == float:\n",
    "    print('Todas las condiciones se cumplieron')\n",
    "    print('porque modificamos a c')\n"
   ]
  },
  {
   "cell_type": "markdown",
   "metadata": {},
   "source": [
    "#### Ciclos\n",
    "\n",
    "Los ciclos en Python son particulares, un ejemplo:"
   ]
  },
  {
   "cell_type": "code",
   "execution_count": null,
   "metadata": {},
   "outputs": [],
   "source": [
    "for i in range(5):\n",
    "    print('hola')"
   ]
  },
  {
   "cell_type": "markdown",
   "metadata": {},
   "source": [
    "<p style=\"text-align: justify\">El ciclo for en Python utiliza un iterable para realizar cada ciclo, en este caso, la funcion range crea un conjunto de valores desde 0 hasta 4 e itera sobre ese conjunto una vez por cada elemento en ese conjunto, cada elemento es asignado a la variable escogida, en este caso a <b>i</b>, otros ejemplos:</p>"
   ]
  },
  {
   "cell_type": "code",
   "execution_count": null,
   "metadata": {},
   "outputs": [],
   "source": [
    "numeros = [1, 2, 3, 4]\n",
    "for i in numeros:\n",
    "    print('hola')"
   ]
  },
  {
   "cell_type": "code",
   "execution_count": null,
   "metadata": {},
   "outputs": [],
   "source": [
    "palabras = ['palabra1', 'palabra2', 'palabra3']\n",
    "for i in palabras:\n",
    "    print(i)    "
   ]
  },
  {
   "cell_type": "code",
   "execution_count": null,
   "metadata": {},
   "outputs": [],
   "source": [
    "# Ejemplo avanzado, ciclo con condicional (generator)\n",
    "numeros2 = range(32)\n",
    "for i in (i for i in numeros2 if i%2 == 0):\n",
    "    # imprime los numeros pares\n",
    "    print(i)"
   ]
  },
  {
   "cell_type": "code",
   "execution_count": null,
   "metadata": {},
   "outputs": [],
   "source": [
    "# Ciclo por pares\n",
    "\n",
    "a = [1, 2, 3, 4]\n",
    "b = [5, 6, 7, 8]\n",
    "\n",
    "for i, j in zip(a, b):\n",
    "    print(i, j)"
   ]
  },
  {
   "cell_type": "markdown",
   "metadata": {},
   "source": [
    "### Funciones"
   ]
  },
  {
   "cell_type": "code",
   "execution_count": null,
   "metadata": {},
   "outputs": [],
   "source": [
    "def sumar(a, b):\n",
    "    return a+b\n",
    "\n",
    "sumar(5, 8)"
   ]
  },
  {
   "cell_type": "markdown",
   "metadata": {},
   "source": [
    "<p style=\"text-align: justify\">Para declarar una funcion solo hay que utilizar la palabra reservada def, escribir el nombre de la funcion y asignar arugmentos si los lleva.</p>"
   ]
  },
  {
   "cell_type": "code",
   "execution_count": null,
   "metadata": {},
   "outputs": [],
   "source": [
    "def concatenar_hola(nombre):\n",
    "    return 'hola '+ nombre\n",
    "\n",
    "concatenar_hola('Andres')"
   ]
  },
  {
   "cell_type": "code",
   "execution_count": null,
   "metadata": {},
   "outputs": [],
   "source": [
    "def valores_por_defecto(a, b, c=5):\n",
    "    return a + b + c\n",
    "\n",
    "print(valores_por_defecto(5, 5))\n",
    "print(valores_por_defecto(5, 5, 1))"
   ]
  },
  {
   "cell_type": "markdown",
   "metadata": {},
   "source": [
    "### Clases"
   ]
  },
  {
   "cell_type": "code",
   "execution_count": null,
   "metadata": {},
   "outputs": [],
   "source": [
    "class Perro:\n",
    "    def __init__(self, nombre):\n",
    "        self.nombre = nombre\n",
    "    \n",
    "    def ladrido(self):\n",
    "        print('guau guau!!')\n",
    "    \n",
    "    def imprimir_nombre(self):\n",
    "        print(self.nombre)\n",
    "\n",
    "perro1 = Perro('Firulais')\n",
    "perro2 = Perro('bethoven')\n",
    "\n",
    "perro1.ladrido()\n",
    "perro2.imprimir_nombre()"
   ]
  },
  {
   "cell_type": "markdown",
   "metadata": {},
   "source": [
    "<p style=\"text-align: justify\"> Para crear una clase se utiliza la palabra reservada class, si se desea tener un constructor se define la funcion __init__ , para hacer referencia a la clase dentro de la misma clase se utiliza por convension la variable self.</p>"
   ]
  },
  {
   "cell_type": "markdown",
   "metadata": {},
   "source": [
    "## Mas ejemplos\n",
    "\n",
    "Con esto se termina de mostrar las funciones mas fundamentales de Python, para ver ejemplos de uso de librerias y ejemplos complejos abrir [Ejemplos avanzados](EjemploNotebook.ipynb) dando clic en el enlace."
   ]
  }
 ],
 "metadata": {
  "kernelspec": {
   "display_name": "Python 3",
   "language": "python",
   "name": "python3"
  },
  "language_info": {
   "codemirror_mode": {
    "name": "ipython",
    "version": 3
   },
   "file_extension": ".py",
   "mimetype": "text/x-python",
   "name": "python",
   "nbconvert_exporter": "python",
   "pygments_lexer": "ipython3",
   "version": "3.7.3"
  },
  "toc-autonumbering": true,
  "toc-showcode": false,
  "toc-showmarkdowntxt": false
 },
 "nbformat": 4,
 "nbformat_minor": 4
}
