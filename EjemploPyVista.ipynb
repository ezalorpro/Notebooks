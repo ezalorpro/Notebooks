{
 "cells": [
  {
   "cell_type": "markdown",
   "metadata": {},
   "source": [
    "**Autor: Kleiver Carrasco - kleiver615@gmail.com**"
   ]
  },
  {
   "cell_type": "code",
   "execution_count": 1,
   "metadata": {},
   "outputs": [],
   "source": [
    "import pyvista as pv\n",
    "import time\n",
    "import numpy as np\n",
    "from pyvista import examples"
   ]
  },
  {
   "cell_type": "code",
   "execution_count": 2,
   "metadata": {},
   "outputs": [],
   "source": [
    "x_samp = np.linspace(-5, 5, 200)\n",
    "y_samp = np.linspace(-5, 5, 200)\n",
    "x, y = np.meshgrid(x_samp, y_samp)"
   ]
  },
  {
   "cell_type": "code",
   "execution_count": 3,
   "metadata": {},
   "outputs": [
    {
     "data": {
      "text/plain": [
       "[(9.831005819500712, -8.443638501064484, 10.373465184324019),\n",
       " (0.0, 0.0, 5.971260263669902),\n",
       " (-0.4205846952771855, -0.01676261896668066, 0.9070984118076578)]"
      ]
     },
     "execution_count": 3,
     "metadata": {},
     "output_type": "execute_result"
    }
   ],
   "source": [
    "a = 20\n",
    "b = 0.2\n",
    "c = 2 * np.pi\n",
    "sum_sq_term = -a * np.exp(-b * np.sqrt(x * x + y * y) / 2)\n",
    "cos_term = -np.exp((np.cos(c * x) + np.cos(c * y)) / 2)\n",
    "\n",
    "z = a + np.exp(1) + sum_sq_term + cos_term\n",
    "\n",
    "grid = pv.StructuredGrid(x, y, z)\n",
    "\n",
    "plotter = pv.Plotter(notebook=False)\n",
    "plotter.add_mesh(grid, scalars=z.ravel(), cmap='viridis')\n",
    "plotter.show()"
   ]
  },
  {
   "cell_type": "code",
   "execution_count": null,
   "metadata": {},
   "outputs": [],
   "source": [
    "z_a = np.sin(np.log(x**2 + y**2))  - np.cos(np.log(x**2 + y**2))\n",
    "\n",
    "grid_animation = pv.StructuredGrid(x, y, z_a)\n",
    "\n",
    "plot_animation = pv.Plotter(off_screen=False, notebook=False)\n",
    "_ = plot_animation.add_mesh(grid_animation, scalars=z_a.ravel(), cmap='viridis')\n",
    "plot_animation.show(title='Ejemplo de animacion 3D', window_size=[800, 600],\n",
    "                 auto_close=False, interactive_update=True)\n",
    "\n",
    "pts = grid_animation.points.copy()\n",
    "fase = np.linspace(0, 10*np.pi, 400)\n",
    "for i in fase:\n",
    "    z_a = np.sin(x**2 + y**2 + i) - np.cos(np.log(x**2 + y**2) + i)\n",
    "    pts[:, -1] = z_a.ravel()\n",
    "    plot_animation.update_coordinates(pts, render=False)\n",
    "    plot_animation.update_scalars(z_a.ravel(), render= False)\n",
    "    plot_animation.update()\n",
    "plot_animation.close()"
   ]
  },
  {
   "cell_type": "code",
   "execution_count": 5,
   "metadata": {},
   "outputs": [
    {
     "name": "stderr",
     "output_type": "stream",
     "text": [
      "c:\\program files (x86)\\python37-32\\lib\\site-packages\\ipykernel_launcher.py:1: RuntimeWarning: invalid value encountered in sqrt\n",
      "  \"\"\"Entry point for launching an IPython kernel.\n",
      "c:\\program files (x86)\\python37-32\\lib\\site-packages\\ipykernel_launcher.py:2: RuntimeWarning: invalid value encountered in sqrt\n",
      "  \n",
      "c:\\program files (x86)\\python37-32\\lib\\site-packages\\ipykernel_launcher.py:18: RuntimeWarning: invalid value encountered in sqrt\n",
      "c:\\program files (x86)\\python37-32\\lib\\site-packages\\ipykernel_launcher.py:19: RuntimeWarning: invalid value encountered in sqrt\n"
     ]
    }
   ],
   "source": [
    "z_1 = np.sqrt(x**2 - y**2)\n",
    "z_2 = np.sqrt(x**2 - y**2)\n",
    "\n",
    "grid_1 = pv.StructuredGrid(x, y, z_1)\n",
    "grid_2 = pv.StructuredGrid(x, y, z_2)\n",
    "\n",
    "plot_animation = pv.Plotter(off_screen=False, notebook=False)\n",
    "_ = plot_animation.add_mesh(grid_1, scalars=z_1.ravel(), cmap='viridis')\n",
    "_ = plot_animation.add_mesh(grid_2, scalars=z_2.ravel(), cmap='viridis')\n",
    "plot_animation.show(title='Ejemplo de animacion 3D', window_size=[800, 600],\n",
    "                 auto_close=False, interactive_update=True)\n",
    "\n",
    "pts1 = grid_1.points.copy()\n",
    "pts2 = grid_2.points.copy()\n",
    "\n",
    "fase = np.linspace(0, 5*np.pi, 200)\n",
    "for i in fase:\n",
    "    z_1 = np.abs(np.sin(i))*np.sqrt(16 - x**2 - y**2 )\n",
    "    z_2 = -np.abs(np.cos(i))*np.sqrt(16 - x**2 - y**2 )\n",
    "    \n",
    "    pts1[:, -1] = z_1.ravel()\n",
    "    pts2[:, -1] = z_2.ravel()\n",
    "    \n",
    "    plot_animation.update_coordinates(pts1, mesh=grid_1, render=False)\n",
    "    plot_animation.update_coordinates(pts2, mesh=grid_2, render=False)\n",
    "    plot_animation.update_scalars(z_1.ravel(), mesh=grid_1, render= False)\n",
    "    plot_animation.update_scalars(z_1.ravel(), mesh=grid_2, render= False)\n",
    "    \n",
    "    plot_animation.update()\n",
    "plot_animation.close()"
   ]
  },
  {
   "cell_type": "code",
   "execution_count": null,
   "metadata": {},
   "outputs": [],
   "source": [
    "plot_animation.close()"
   ]
  }
 ],
 "metadata": {
  "kernelspec": {
   "display_name": "Python 3",
   "language": "python",
   "name": "python3"
  },
  "language_info": {
   "codemirror_mode": {
    "name": "ipython",
    "version": 3
   },
   "file_extension": ".py",
   "mimetype": "text/x-python",
   "name": "python",
   "nbconvert_exporter": "python",
   "pygments_lexer": "ipython3",
   "version": "3.7.3"
  }
 },
 "nbformat": 4,
 "nbformat_minor": 4
}
